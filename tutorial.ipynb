{
 "cells": [
  {
   "cell_type": "markdown",
   "metadata": {},
   "source": [
    "# turboPy App: Particle In Field"
   ]
  },
  {
   "cell_type": "markdown",
   "metadata": {},
   "source": [
    "This notebook shows an example app simulating the motion of a charged particle thorugh an electric field. This app is able to estimate the position, momentum, and electric field over time. \n",
    "\n",
    "We will create two custom `PhysicsModule` classes: `EMWave` and `ChargedParticle` which will take care of updating the electric field and the particles position and momentum respectively. "
   ]
  },
  {
   "cell_type": "markdown",
   "metadata": {},
   "source": [
    "We first need to make the necessary imports:"
   ]
  },
  {
   "cell_type": "code",
   "execution_count": null,
   "metadata": {},
   "outputs": [],
   "source": [
    "import numpy as np\n",
    "import xarray as xr\n",
    "import matplotlib.pyplot as plt\n",
    "\n",
    "from turbopy import Simulation, PhysicsModule, Diagnostic\n",
    "from turbopy import CSVOutputUtility, ComputeTool, FieldDiagnostic\n",
    "from turbopy import construct_simulation_from_toml"
   ]
  },
  {
   "cell_type": "markdown",
   "metadata": {},
   "source": [
    "Then create subclasses for the `PhysicsModule` and `Diagnostic` classes and override the necessary methods. These classes hold data necessary for the simulation that will be specified later"
   ]
  },
  {
   "cell_type": "code",
   "execution_count": null,
   "metadata": {},
   "outputs": [],
   "source": [
    "class EMWave(PhysicsModule):\n",
    "    def __init__(self, owner: Simulation, input_data: dict):\n",
    "        super().__init__(owner, input_data)\n",
    "        self.c = 2.998e8\n",
    "        self.E0 = input_data[\"amplitude\"]\n",
    "\n",
    "        self.E = xr.DataArray(owner.grid.generate_field(),\n",
    "                              dims=\"x\", coords={\"x\": owner.grid.r})\n",
    "        self.E.x.attrs[\"long_name\"] = \"Position\"\n",
    "        self.E.x.attrs[\"units\"] = \"m\"\n",
    "        self.E.attrs[\"long_name\"] = \"Electric Field\"\n",
    "        self.E.attrs[\"units\"] = \"V/m\"\n",
    "\n",
    "        self.omega = input_data[\"omega\"]\n",
    "        self.k = self.omega / self.c\n",
    "    \n",
    "    def initialize(self):\n",
    "        phase = - self.omega * 0 + self.k * (self._owner.grid.r - 0.5)\n",
    "        self.E[:] = self.E0 * np.cos(2 * np.pi * phase)\n",
    "\n",
    "    def update(self):\n",
    "        phase = - self.omega * self._owner.clock.time \\\n",
    "                + self.k * (self._owner.grid.r - 0.5)\n",
    "        self.E[:] = self.E0 * np.cos(2 * np.pi * phase)\n",
    "        \n",
    "    def exchange_resources(self):\n",
    "        self.publish_resource({\"EMField:E\": self.E})"
   ]
  },
  {
   "cell_type": "code",
   "execution_count": null,
   "metadata": {},
   "outputs": [],
   "source": [
    "class ChargedParticle(PhysicsModule):\n",
    "    def __init__(self, owner: Simulation, input_data: dict):\n",
    "        super().__init__(owner, input_data)\n",
    "        self.E = None\n",
    "        self.x = input_data[\"position\"]\n",
    "        self.interp_field = owner.grid.create_interpolator(self.x)\n",
    "        self.position = np.zeros((1, 3))\n",
    "        self.momentum = np.zeros((1, 3))\n",
    "        self.eoverm = 1.7588e11\n",
    "        self.charge = 1.6022e-19\n",
    "        self.mass = 9.1094e-31\n",
    "        self.push = owner.find_tool_by_name(input_data[\"pusher\"]).push\n",
    "        \n",
    "    def exchange_resources(self):\n",
    "        self.publish_resource({\"ChargedParticle:position\": self.position})\n",
    "        self.publish_resource({\"ChargedParticle:momentum\": self.momentum})\n",
    "    \n",
    "    def inspect_resource(self, resource):\n",
    "        if \"EMField:E\" in resource:\n",
    "            self.E = resource[\"EMField:E\"]    \n",
    "\n",
    "    def update(self):\n",
    "        E = np.array([0, self.interp_field(self.E), 0])\n",
    "        self.push(self.position, self.momentum, self.charge, self.mass, E, B=0)"
   ]
  },
  {
   "cell_type": "code",
   "execution_count": null,
   "metadata": {},
   "outputs": [],
   "source": [
    "class ParticleDiagnostic(Diagnostic):\n",
    "    def __init__(self, owner: Simulation, input_data: dict):\n",
    "        super().__init__(owner, input_data)\n",
    "        self.data = None\n",
    "        self.component = input_data[\"component\"]\n",
    "        self.output_function = None\n",
    "        \n",
    "    def inspect_resource(self, resource):\n",
    "        if \"ChargedParticle:\" + self.component in resource:\n",
    "            self.data = resource[\"ChargedParticle:\" + self.component]\n",
    "    \n",
    "    def diagnose(self):\n",
    "        self.output_function(self.data[0, :])\n",
    "\n",
    "    def initialize(self):\n",
    "        # setup output method\n",
    "        functions = {\"stdout\": self.print_diagnose,\n",
    "                     \"csv\": self.csv_diagnose,\n",
    "                     }\n",
    "        self.output_function = functions[self._input_data[\"output_type\"]]\n",
    "        if self._input_data[\"output_type\"] == \"csv\":\n",
    "            diagnostic_size = (self._owner.clock.num_steps + 1, 3)\n",
    "            self.csv = CSVOutputUtility(self._input_data[\"filename\"], diagnostic_size)\n",
    "\n",
    "    def finalize(self):\n",
    "        self.diagnose()\n",
    "        if self._input_data[\"output_type\"] == \"csv\":\n",
    "            self.csv.finalize()\n",
    "\n",
    "    def print_diagnose(self, data):\n",
    "        print(data)\n",
    "\n",
    "    def csv_diagnose(self, data):\n",
    "        self.csv.append(data)"
   ]
  },
  {
   "cell_type": "markdown",
   "metadata": {},
   "source": [
    "The `FieldPlottingDiagnostic` is an extension of the `FieldDiagnostic` class under turboPy's pre-registered `Diagnostic` classes."
   ]
  },
  {
   "cell_type": "code",
   "execution_count": null,
   "metadata": {},
   "outputs": [],
   "source": [
    "class FieldPlottingDiagnostic(FieldDiagnostic):\n",
    "    \"\"\"Extend the FieldDiagnostic to also create plots of the data\"\"\"\n",
    "    def __init__(self, owner: Simulation, input_data: dict):\n",
    "        super().__init__(owner, input_data)\n",
    "\n",
    "    def do_diagnostic(self):\n",
    "        super().do_diagnostic()\n",
    "        plt.clf()\n",
    "        self.field.plot()\n",
    "        plt.title(f\"Time: {self._owner.clock.time:0.3e} s\")\n",
    "        plt.pause(0.01)\n",
    "\n",
    "    def finalize(self):\n",
    "        super().finalize()\n",
    "        # Call show to keep the plot open\n",
    "        plt.show()"
   ]
  },
  {
   "cell_type": "markdown",
   "metadata": {},
   "source": [
    "We create a `ComputeTool` subclass to implement the math behind the simulation. In this case, we will be using the forward euler method, creating a `ForwardEuler` subclass. "
   ]
  },
  {
   "cell_type": "code",
   "execution_count": null,
   "metadata": {},
   "outputs": [],
   "source": [
    "class ForwardEuler(ComputeTool):\n",
    "    def __init__(self, owner: Simulation, input_data: dict):\n",
    "        super().__init__(owner, input_data)\n",
    "        self.dt = None\n",
    "        \n",
    "    def initialize(self):\n",
    "        self.dt = self._owner.clock.dt\n",
    "    \n",
    "    def push(self, position, momentum, charge, mass, E, B):\n",
    "        p0 = momentum.copy()\n",
    "        momentum[:] = momentum + self.dt * E * charge\n",
    "        position[:] = position + self.dt * p0 / mass"
   ]
  },
  {
   "cell_type": "markdown",
   "metadata": {},
   "source": [
    "To use these classes in our simulation, we need to register them with their respective super classes:"
   ]
  },
  {
   "cell_type": "code",
   "execution_count": null,
   "metadata": {},
   "outputs": [],
   "source": [
    "PhysicsModule.register(\"EMWave\", EMWave)\n",
    "PhysicsModule.register(\"ChargedParticle\", ChargedParticle)\n",
    "Diagnostic.register(\"ParticleDiagnostic\", ParticleDiagnostic)\n",
    "Diagnostic.register(\"FieldPlottingDiagnostic\", FieldPlottingDiagnostic)\n",
    "ComputeTool.register(\"ForwardEuler\", ForwardEuler)"
   ]
  },
  {
   "cell_type": "markdown",
   "metadata": {},
   "source": [
    "To set up our `Simulation` class, we pass in a dictionary of input data that we will read from a `.toml` file."
   ]
  },
  {
   "cell_type": "code",
   "execution_count": null,
   "metadata": {},
   "outputs": [],
   "source": [
    "input_file = \"particle_in_field.toml\"\n",
    "sim = construct_simulation_from_toml(input_file)\n",
    "sim.run()"
   ]
  },
  {
   "cell_type": "markdown",
   "metadata": {},
   "source": [
    "```toml\n",
    "# particle_in_field.toml\n",
    "# Define simulation related parameters\n",
    "[Grid]\n",
    "N = 30\n",
    "r_min = 0.0\n",
    "r_max = 1.0\n",
    "\n",
    "[Clock]\n",
    "start_time = 0.0\n",
    "end_time = 1e-8\n",
    "num_steps = 20\n",
    "\n",
    "\n",
    "# Add the physics modules\n",
    "[PhysicsModules]         \n",
    "[PhysicsModules.EMWave]\n",
    "amplitude = 1.0\n",
    "omega = 2e8\n",
    "\n",
    "[PhysicsModules.ChargedParticle]\n",
    "position = 0.5\n",
    "pusher = \"ForwardEuler\"\n",
    "\n",
    "# Add the compute tools\n",
    "# Empty \"heading\" is ok, adds the tool with no/default parameters\n",
    "[Tools.ForwardEuler]\n",
    "\n",
    "\n",
    "# Add the diagnostics\n",
    "[Diagnostics]\n",
    "# First add some default diagnostic parameters\n",
    "directory = \"output/\"\n",
    "output_type = \"csv\"\n",
    "\n",
    "[Diagnostics.grid]\n",
    "filename = \"grid.csv\"\n",
    "\n",
    "[Diagnostics.clock]\n",
    "filename = \"time.csv\"\n",
    "\n",
    "# [[Diagnostics.field]] # Double brackets here because we can have multiples of these...\n",
    "[[Diagnostics.FieldPlottingDiagnostic]]\n",
    "component = 0\n",
    "field = \"EMField:E\"\n",
    "filename = \"efield.csv\"\n",
    "\n",
    "[Diagnostics.point] # single brackets here because we only have one of these...\n",
    "field = \"EMField:E\"\n",
    "location = 0.5\n",
    "filename = \"e_0.5.csv\"\n",
    "\n",
    "[[Diagnostics.ParticleDiagnostic]]\n",
    "component = \"momentum\"\n",
    "filename = \"particle_p.csv\"\n",
    "\n",
    "[[Diagnostics.ParticleDiagnostic]]\n",
    "component = \"position\"\n",
    "filename = \"particle_x.csv\" ```"
   ]
  },
  {
   "cell_type": "markdown",
   "metadata": {},
   "source": [
    "The `Simulation`class's `CSVOutputUtility` outputs data to directory `output/`\n",
    "\n",
    "    ├── README.md\n",
    "    ├── output\n",
    "    │   ├── e_0.5.csv\n",
    "    │   ├── efield.csv\n",
    "    │   ├── grid.csv\n",
    "    │   ├── particle_p.csv\n",
    "    │   ├── particle_x.csv\n",
    "    │   └── time.csv\n",
    "    ├── particle_in_field.py\n",
    "    ├── particle_in_field.toml\n",
    "    ├── test_particle_in_field.py\n",
    "    └── tutorial.ipynb\n"
   ]
  },
  {
   "cell_type": "markdown",
   "metadata": {},
   "source": [
    "Running the app in termimal: "
   ]
  },
  {
   "cell_type": "markdown",
   "metadata": {},
   "source": [
    "`>>> python ./particle_in_field.py`"
   ]
  },
  {
   "cell_type": "markdown",
   "metadata": {},
   "source": [
    "<img src=\"./screenshots/particle_in_field_output.gif\" alt=\"test\">"
   ]
  },
  {
   "cell_type": "markdown",
   "metadata": {},
   "source": [
    "`e_0.5.csv`:      Electromagnetic field at 0.5 \\\n",
    "`efield.csv`:     Electromagnetic field \\\n",
    "`grid.csv`:       Simulation's Grid points \\\n",
    "`particle_p.csv`: Particle momentum \\\n",
    "`particle_x.csv`: Particle position \\\n",
    "`time.csv`:       SimulationClock"
   ]
  },
  {
   "cell_type": "markdown",
   "metadata": {},
   "source": [
    "## Graphs:\n",
    "\n",
    "We can plot data with either the output CSV files, or with `CSVOutputUtility`'s `buffer` variable."
   ]
  },
  {
   "cell_type": "code",
   "execution_count": null,
   "metadata": {},
   "outputs": [],
   "source": [
    "print(sim.diagnostics)"
   ]
  },
  {
   "cell_type": "markdown",
   "metadata": {},
   "source": [
    "    [GridDiagnostic({'directory': 'output/', 'output_type': 'csv', 'filename': 'output/grid.csv', 'type': 'grid'}), ClockDiagnostic({'directory': 'output/', 'output_type': 'csv', 'filename': 'output/time.csv', 'type': 'clock'}), FieldPlottingDiagnostic({'directory': 'output/', 'output_type': 'csv', 'component': 0, 'field': 'EMField:E', 'filename': 'output/efield.csv', 'type': 'FieldPlottingDiagnostic'}), PointDiagnostic({'directory': 'output/', 'output_type': 'csv', 'field': 'EMField:E', 'location': 0.5, 'filename': 'output/e_0.5.csv', 'type': 'point'}), ParticleDiagnostic({'directory': 'output/', 'output_type': 'csv', 'component': 'momentum', 'filename': 'output/particle_p.csv', 'type': 'ParticleDiagnostic'}), ParticleDiagnostic({'directory': 'output/', 'output_type': 'csv', 'component': 'position', 'filename': 'output/particle_x.csv', 'type': 'ParticleDiagnostic'})]\n",
    "\n",
    "Now we can use the data provided in `buffer` for our plots.\n"
   ]
  },
  {
   "cell_type": "code",
   "execution_count": null,
   "metadata": {},
   "outputs": [],
   "source": [
    "time = []\n",
    "momentum = []\n",
    "position = []\n",
    "field = []\n",
    "\n",
    "for i in sim.diagnostics[1].csv.buffer:\n",
    "    time.append(i[0])\n",
    "\n",
    "for i in sim.diagnostics[4].csv.buffer:\n",
    "    momentum.append(i[1])\n",
    "\n",
    "for i in sim.diagnostics[5].csv.buffer:\n",
    "    position.append(i[1])\n",
    "\n",
    "for i in sim.diagnostics[3].csv.buffer:\n",
    "    field.append(i[0])\n",
    "\n",
    "plt.plot(time, field)\n",
    "plt.xlabel('Time')\n",
    "plt.ylabel('Field')\n",
    "plt.show()\n",
    "\n",
    "plt.plot(time, momentum)\n",
    "plt.xlabel('Time')\n",
    "plt.ylabel('Momentum')\n",
    "plt.show()\n",
    "\n",
    "plt.plot(time, position)\n",
    "plt.xlabel('Time')\n",
    "plt.ylabel('Position')\n",
    "plt.show()\n",
    "\n",
    "plt.plot(position, momentum)\n",
    "plt.xlabel('Position')\n",
    "plt.ylabel('Momentum')\n",
    "plt.show()"
   ]
  },
  {
   "cell_type": "markdown",
   "metadata": {},
   "source": [
    "<img src=\"./screenshots/field v. time.png\" alt=\"test\">\n",
    "<img src=\"./screenshots/momentum v. time.png\" alt=\"test\">\n",
    "<img src=\"./screenshots/position v. time.png\" alt=\"test\">\n",
    "<img src=\"./screenshots/momentum v. position.png\" alt=\"test\">"
   ]
  }
 ],
 "metadata": {
  "kernelspec": {
   "display_name": "Python 3",
   "language": "python",
   "name": "python3"
  },
  "language_info": {
   "codemirror_mode": {
    "name": "ipython",
    "version": 3
   },
   "file_extension": ".py",
   "mimetype": "text/x-python",
   "name": "python",
   "nbconvert_exporter": "python",
   "pygments_lexer": "ipython3",
   "version": "3.7.6"
  }
 },
 "nbformat": 4,
 "nbformat_minor": 4
}
